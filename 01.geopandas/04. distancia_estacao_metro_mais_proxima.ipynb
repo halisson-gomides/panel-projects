{
 "cells": [
  {
   "cell_type": "markdown",
   "metadata": {},
   "source": [
    "### Usando alguns datasets externos para calcular as distâncias entre determinados imóveis e os pontos do nosso conjunto. Primeiro, usaremos as estações de metrô da cidade do Rio de Janeiro, já que, por facilitar o transporte, a proximidade de uma área atendida por uma estação de metrô é um fator que pode agregar no valor do imóvel.\n",
    "\n",
    "- Dados: https://www.data.rio/\n"
   ]
  },
  {
   "cell_type": "markdown",
   "metadata": {},
   "source": [
    "# Distâncias até a estação de metrô mais próxima\n",
    "\n",
    "- Dados: https://www.data.rio/datasets/esta%C3%A7%C3%B5es-metr%C3%B4\n",
    "\n",
    "\n",
    "- Spatial Reference for CRS: https://spatialreference.org/ref/epsg/31983/proj4/"
   ]
  },
  {
   "cell_type": "code",
   "execution_count": 1,
   "metadata": {
    "ExecuteTime": {
     "end_time": "2021-02-22T18:47:49.108585Z",
     "start_time": "2021-02-22T18:47:46.737111Z"
    }
   },
   "outputs": [],
   "source": [
    "%matplotlib inline\n",
    "import geopandas as gpd"
   ]
  },
  {
   "cell_type": "code",
   "execution_count": 35,
   "metadata": {
    "ExecuteTime": {
     "end_time": "2021-02-23T12:14:43.294466Z",
     "start_time": "2021-02-23T12:14:43.288482Z"
    }
   },
   "outputs": [],
   "source": [
    "def cria_dir(pasta:str, path='dados/processados/mapas'):\n",
    "    '''\n",
    "    Função para criar diretorios em um caminho especificado\n",
    "    '''\n",
    "    import os\n",
    "\n",
    "    dir_ = f'{path}/{pasta}' \n",
    "    if not os.path.exists(dir_):\n",
    "        os.makedirs(dir_)\n",
    "    \n",
    "    return dir_"
   ]
  },
  {
   "cell_type": "code",
   "execution_count": 74,
   "metadata": {
    "ExecuteTime": {
     "end_time": "2021-02-23T13:49:18.290423Z",
     "start_time": "2021-02-23T13:49:18.239588Z"
    }
   },
   "outputs": [],
   "source": [
    "metro = gpd.read_file('dados/originais/transporte/metro/Estacoes_Metro.geojson')"
   ]
  },
  {
   "cell_type": "code",
   "execution_count": 75,
   "metadata": {
    "ExecuteTime": {
     "end_time": "2021-02-23T13:49:19.401587Z",
     "start_time": "2021-02-23T13:49:19.367675Z"
    }
   },
   "outputs": [
    {
     "data": {
      "text/html": [
       "<div>\n",
       "<style scoped>\n",
       "    .dataframe tbody tr th:only-of-type {\n",
       "        vertical-align: middle;\n",
       "    }\n",
       "\n",
       "    .dataframe tbody tr th {\n",
       "        vertical-align: top;\n",
       "    }\n",
       "\n",
       "    .dataframe thead th {\n",
       "        text-align: right;\n",
       "    }\n",
       "</style>\n",
       "<table border=\"1\" class=\"dataframe\">\n",
       "  <thead>\n",
       "    <tr style=\"text-align: right;\">\n",
       "      <th></th>\n",
       "      <th>OBJECTID</th>\n",
       "      <th>Cod</th>\n",
       "      <th>Nome</th>\n",
       "      <th>Flg_ATM</th>\n",
       "      <th>Flg_Bicicletario</th>\n",
       "      <th>Flg_Elevador</th>\n",
       "      <th>Flg_Linha1</th>\n",
       "      <th>Flg_Linha2</th>\n",
       "      <th>Obs</th>\n",
       "      <th>Flg_Ativa</th>\n",
       "      <th>...</th>\n",
       "      <th>Integra_Trem</th>\n",
       "      <th>Integra_Onibus</th>\n",
       "      <th>Integra_BRT</th>\n",
       "      <th>Corredor</th>\n",
       "      <th>Integra_VLT</th>\n",
       "      <th>Onibus</th>\n",
       "      <th>Flg_Metro_Superficie</th>\n",
       "      <th>Metro_Superficie</th>\n",
       "      <th>Data_Inauguracao</th>\n",
       "      <th>geometry</th>\n",
       "    </tr>\n",
       "  </thead>\n",
       "  <tbody>\n",
       "    <tr>\n",
       "      <th>0</th>\n",
       "      <td>1</td>\n",
       "      <td>1</td>\n",
       "      <td>Pavuna</td>\n",
       "      <td>1</td>\n",
       "      <td>1.0</td>\n",
       "      <td>1.0</td>\n",
       "      <td>0</td>\n",
       "      <td>1</td>\n",
       "      <td>None</td>\n",
       "      <td>1</td>\n",
       "      <td>...</td>\n",
       "      <td>1</td>\n",
       "      <td>0</td>\n",
       "      <td>0</td>\n",
       "      <td>None</td>\n",
       "      <td>0</td>\n",
       "      <td>None</td>\n",
       "      <td>0</td>\n",
       "      <td>None</td>\n",
       "      <td>1998</td>\n",
       "      <td>POINT (-43.36485 -22.80662)</td>\n",
       "    </tr>\n",
       "    <tr>\n",
       "      <th>1</th>\n",
       "      <td>2</td>\n",
       "      <td>2</td>\n",
       "      <td>Engenheiro Rubens Paiva</td>\n",
       "      <td>1</td>\n",
       "      <td>1.0</td>\n",
       "      <td>1.0</td>\n",
       "      <td>0</td>\n",
       "      <td>1</td>\n",
       "      <td>None</td>\n",
       "      <td>1</td>\n",
       "      <td>...</td>\n",
       "      <td>0</td>\n",
       "      <td>0</td>\n",
       "      <td>0</td>\n",
       "      <td>None</td>\n",
       "      <td>0</td>\n",
       "      <td>None</td>\n",
       "      <td>0</td>\n",
       "      <td>None</td>\n",
       "      <td>1998</td>\n",
       "      <td>POINT (-43.35845 -22.81627)</td>\n",
       "    </tr>\n",
       "    <tr>\n",
       "      <th>2</th>\n",
       "      <td>3</td>\n",
       "      <td>3</td>\n",
       "      <td>Acari / Fazenda Botafogo</td>\n",
       "      <td>0</td>\n",
       "      <td>0.0</td>\n",
       "      <td>0.0</td>\n",
       "      <td>0</td>\n",
       "      <td>1</td>\n",
       "      <td>None</td>\n",
       "      <td>1</td>\n",
       "      <td>...</td>\n",
       "      <td>0</td>\n",
       "      <td>0</td>\n",
       "      <td>0</td>\n",
       "      <td>None</td>\n",
       "      <td>0</td>\n",
       "      <td>None</td>\n",
       "      <td>0</td>\n",
       "      <td>None</td>\n",
       "      <td>1998</td>\n",
       "      <td>POINT (-43.34964 -22.82452)</td>\n",
       "    </tr>\n",
       "    <tr>\n",
       "      <th>3</th>\n",
       "      <td>4</td>\n",
       "      <td>4</td>\n",
       "      <td>Coelho Neto</td>\n",
       "      <td>1</td>\n",
       "      <td>0.0</td>\n",
       "      <td>0.0</td>\n",
       "      <td>0</td>\n",
       "      <td>1</td>\n",
       "      <td>None</td>\n",
       "      <td>1</td>\n",
       "      <td>...</td>\n",
       "      <td>0</td>\n",
       "      <td>0</td>\n",
       "      <td>0</td>\n",
       "      <td>None</td>\n",
       "      <td>0</td>\n",
       "      <td>None</td>\n",
       "      <td>0</td>\n",
       "      <td>None</td>\n",
       "      <td>1998</td>\n",
       "      <td>POINT (-43.34326 -22.83148)</td>\n",
       "    </tr>\n",
       "    <tr>\n",
       "      <th>4</th>\n",
       "      <td>5</td>\n",
       "      <td>5</td>\n",
       "      <td>Colégio</td>\n",
       "      <td>1</td>\n",
       "      <td>1.0</td>\n",
       "      <td>0.0</td>\n",
       "      <td>0</td>\n",
       "      <td>1</td>\n",
       "      <td>None</td>\n",
       "      <td>1</td>\n",
       "      <td>...</td>\n",
       "      <td>0</td>\n",
       "      <td>0</td>\n",
       "      <td>0</td>\n",
       "      <td>None</td>\n",
       "      <td>0</td>\n",
       "      <td>None</td>\n",
       "      <td>0</td>\n",
       "      <td>None</td>\n",
       "      <td>1998</td>\n",
       "      <td>POINT (-43.33386 -22.84269)</td>\n",
       "    </tr>\n",
       "  </tbody>\n",
       "</table>\n",
       "<p>5 rows × 23 columns</p>\n",
       "</div>"
      ],
      "text/plain": [
       "   OBJECTID  Cod                      Nome  Flg_ATM  Flg_Bicicletario  \\\n",
       "0         1    1                    Pavuna        1               1.0   \n",
       "1         2    2   Engenheiro Rubens Paiva        1               1.0   \n",
       "2         3    3  Acari / Fazenda Botafogo        0               0.0   \n",
       "3         4    4               Coelho Neto        1               0.0   \n",
       "4         5    5                   Colégio        1               1.0   \n",
       "\n",
       "   Flg_Elevador  Flg_Linha1  Flg_Linha2   Obs  Flg_Ativa  ... Integra_Trem  \\\n",
       "0           1.0           0           1  None          1  ...            1   \n",
       "1           1.0           0           1  None          1  ...            0   \n",
       "2           0.0           0           1  None          1  ...            0   \n",
       "3           0.0           0           1  None          1  ...            0   \n",
       "4           0.0           0           1  None          1  ...            0   \n",
       "\n",
       "  Integra_Onibus  Integra_BRT  Corredor  Integra_VLT  Onibus  \\\n",
       "0              0            0      None            0    None   \n",
       "1              0            0      None            0    None   \n",
       "2              0            0      None            0    None   \n",
       "3              0            0      None            0    None   \n",
       "4              0            0      None            0    None   \n",
       "\n",
       "  Flg_Metro_Superficie  Metro_Superficie Data_Inauguracao  \\\n",
       "0                    0              None             1998   \n",
       "1                    0              None             1998   \n",
       "2                    0              None             1998   \n",
       "3                    0              None             1998   \n",
       "4                    0              None             1998   \n",
       "\n",
       "                      geometry  \n",
       "0  POINT (-43.36485 -22.80662)  \n",
       "1  POINT (-43.35845 -22.81627)  \n",
       "2  POINT (-43.34964 -22.82452)  \n",
       "3  POINT (-43.34326 -22.83148)  \n",
       "4  POINT (-43.33386 -22.84269)  \n",
       "\n",
       "[5 rows x 23 columns]"
      ]
     },
     "execution_count": 75,
     "metadata": {},
     "output_type": "execute_result"
    }
   ],
   "source": [
    "metro.head()"
   ]
  },
  {
   "cell_type": "code",
   "execution_count": 82,
   "metadata": {
    "ExecuteTime": {
     "end_time": "2021-02-23T13:54:05.180435Z",
     "start_time": "2021-02-23T13:54:05.174423Z"
    }
   },
   "outputs": [
    {
     "data": {
      "text/plain": [
       "<Geographic 2D CRS: EPSG:4326>\n",
       "Name: WGS 84\n",
       "Axis Info [ellipsoidal]:\n",
       "- Lat[north]: Geodetic latitude (degree)\n",
       "- Lon[east]: Geodetic longitude (degree)\n",
       "Area of Use:\n",
       "- name: World.\n",
       "- bounds: (-180.0, -90.0, 180.0, 90.0)\n",
       "Datum: World Geodetic System 1984\n",
       "- Ellipsoid: WGS 84\n",
       "- Prime Meridian: Greenwich"
      ]
     },
     "execution_count": 82,
     "metadata": {},
     "output_type": "execute_result"
    }
   ],
   "source": [
    "metro.crs"
   ]
  },
  {
   "cell_type": "code",
   "execution_count": 83,
   "metadata": {
    "ExecuteTime": {
     "end_time": "2021-02-23T13:54:20.775498Z",
     "start_time": "2021-02-23T13:54:20.726629Z"
    }
   },
   "outputs": [],
   "source": [
    "metro = metro.to_crs('+proj=utm +zone=23 +south +ellps=GRS80 +towgs84=0,0,0,0,0,0,0 +units=km +no_defs')"
   ]
  },
  {
   "cell_type": "code",
   "execution_count": 63,
   "metadata": {
    "ExecuteTime": {
     "end_time": "2021-02-23T13:45:00.269894Z",
     "start_time": "2021-02-23T13:45:00.142229Z"
    }
   },
   "outputs": [
    {
     "data": {
      "text/plain": [
       "<Bound CRS: +proj=utm +zone=23 +south +ellps=GRS80 +towgs84=0, ...>\n",
       "Name: unknown\n",
       "Axis Info [cartesian]:\n",
       "- E[east]: Easting (kilometre)\n",
       "- N[north]: Northing (kilometre)\n",
       "Area of Use:\n",
       "- undefined\n",
       "Coordinate Operation:\n",
       "- name: Transformation from unknown to WGS84\n",
       "- method: Position Vector transformation (geog2D domain)\n",
       "Datum: Unknown based on GRS80 ellipsoid\n",
       "- Ellipsoid: GRS 1980\n",
       "- Prime Meridian: Greenwich\n",
       "Source CRS: unknown"
      ]
     },
     "execution_count": 63,
     "metadata": {},
     "output_type": "execute_result"
    }
   ],
   "source": [
    "metro.crs"
   ]
  },
  {
   "cell_type": "code",
   "execution_count": 8,
   "metadata": {
    "ExecuteTime": {
     "end_time": "2021-02-22T18:57:42.047469Z",
     "start_time": "2021-02-22T18:57:42.011565Z"
    }
   },
   "outputs": [
    {
     "data": {
      "text/html": [
       "<div>\n",
       "<style scoped>\n",
       "    .dataframe tbody tr th:only-of-type {\n",
       "        vertical-align: middle;\n",
       "    }\n",
       "\n",
       "    .dataframe tbody tr th {\n",
       "        vertical-align: top;\n",
       "    }\n",
       "\n",
       "    .dataframe thead th {\n",
       "        text-align: right;\n",
       "    }\n",
       "</style>\n",
       "<table border=\"1\" class=\"dataframe\">\n",
       "  <thead>\n",
       "    <tr style=\"text-align: right;\">\n",
       "      <th></th>\n",
       "      <th>OBJECTID</th>\n",
       "      <th>Cod</th>\n",
       "      <th>Nome</th>\n",
       "      <th>Flg_ATM</th>\n",
       "      <th>Flg_Bicicletario</th>\n",
       "      <th>Flg_Elevador</th>\n",
       "      <th>Flg_Linha1</th>\n",
       "      <th>Flg_Linha2</th>\n",
       "      <th>Obs</th>\n",
       "      <th>Flg_Ativa</th>\n",
       "      <th>...</th>\n",
       "      <th>Integra_Trem</th>\n",
       "      <th>Integra_Onibus</th>\n",
       "      <th>Integra_BRT</th>\n",
       "      <th>Corredor</th>\n",
       "      <th>Integra_VLT</th>\n",
       "      <th>Onibus</th>\n",
       "      <th>Flg_Metro_Superficie</th>\n",
       "      <th>Metro_Superficie</th>\n",
       "      <th>Data_Inauguracao</th>\n",
       "      <th>geometry</th>\n",
       "    </tr>\n",
       "  </thead>\n",
       "  <tbody>\n",
       "    <tr>\n",
       "      <th>0</th>\n",
       "      <td>1</td>\n",
       "      <td>1</td>\n",
       "      <td>Pavuna</td>\n",
       "      <td>1</td>\n",
       "      <td>1.0</td>\n",
       "      <td>1.0</td>\n",
       "      <td>0</td>\n",
       "      <td>1</td>\n",
       "      <td>None</td>\n",
       "      <td>1</td>\n",
       "      <td>...</td>\n",
       "      <td>1</td>\n",
       "      <td>0</td>\n",
       "      <td>0</td>\n",
       "      <td>None</td>\n",
       "      <td>0</td>\n",
       "      <td>None</td>\n",
       "      <td>0</td>\n",
       "      <td>None</td>\n",
       "      <td>1998</td>\n",
       "      <td>POINT (667.827 7476.959)</td>\n",
       "    </tr>\n",
       "    <tr>\n",
       "      <th>1</th>\n",
       "      <td>2</td>\n",
       "      <td>2</td>\n",
       "      <td>Engenheiro Rubens Paiva</td>\n",
       "      <td>1</td>\n",
       "      <td>1.0</td>\n",
       "      <td>1.0</td>\n",
       "      <td>0</td>\n",
       "      <td>1</td>\n",
       "      <td>None</td>\n",
       "      <td>1</td>\n",
       "      <td>...</td>\n",
       "      <td>0</td>\n",
       "      <td>0</td>\n",
       "      <td>0</td>\n",
       "      <td>None</td>\n",
       "      <td>0</td>\n",
       "      <td>None</td>\n",
       "      <td>0</td>\n",
       "      <td>None</td>\n",
       "      <td>1998</td>\n",
       "      <td>POINT (668.471 7475.883)</td>\n",
       "    </tr>\n",
       "    <tr>\n",
       "      <th>2</th>\n",
       "      <td>3</td>\n",
       "      <td>3</td>\n",
       "      <td>Acari / Fazenda Botafogo</td>\n",
       "      <td>0</td>\n",
       "      <td>0.0</td>\n",
       "      <td>0.0</td>\n",
       "      <td>0</td>\n",
       "      <td>1</td>\n",
       "      <td>None</td>\n",
       "      <td>1</td>\n",
       "      <td>...</td>\n",
       "      <td>0</td>\n",
       "      <td>0</td>\n",
       "      <td>0</td>\n",
       "      <td>None</td>\n",
       "      <td>0</td>\n",
       "      <td>None</td>\n",
       "      <td>0</td>\n",
       "      <td>None</td>\n",
       "      <td>1998</td>\n",
       "      <td>POINT (669.365 7474.959)</td>\n",
       "    </tr>\n",
       "    <tr>\n",
       "      <th>3</th>\n",
       "      <td>4</td>\n",
       "      <td>4</td>\n",
       "      <td>Coelho Neto</td>\n",
       "      <td>1</td>\n",
       "      <td>0.0</td>\n",
       "      <td>0.0</td>\n",
       "      <td>0</td>\n",
       "      <td>1</td>\n",
       "      <td>None</td>\n",
       "      <td>1</td>\n",
       "      <td>...</td>\n",
       "      <td>0</td>\n",
       "      <td>0</td>\n",
       "      <td>0</td>\n",
       "      <td>None</td>\n",
       "      <td>0</td>\n",
       "      <td>None</td>\n",
       "      <td>0</td>\n",
       "      <td>None</td>\n",
       "      <td>1998</td>\n",
       "      <td>POINT (670.012 7474.182)</td>\n",
       "    </tr>\n",
       "    <tr>\n",
       "      <th>4</th>\n",
       "      <td>5</td>\n",
       "      <td>5</td>\n",
       "      <td>Colégio</td>\n",
       "      <td>1</td>\n",
       "      <td>1.0</td>\n",
       "      <td>0.0</td>\n",
       "      <td>0</td>\n",
       "      <td>1</td>\n",
       "      <td>None</td>\n",
       "      <td>1</td>\n",
       "      <td>...</td>\n",
       "      <td>0</td>\n",
       "      <td>0</td>\n",
       "      <td>0</td>\n",
       "      <td>None</td>\n",
       "      <td>0</td>\n",
       "      <td>None</td>\n",
       "      <td>0</td>\n",
       "      <td>None</td>\n",
       "      <td>1998</td>\n",
       "      <td>POINT (670.963 7472.930)</td>\n",
       "    </tr>\n",
       "  </tbody>\n",
       "</table>\n",
       "<p>5 rows × 23 columns</p>\n",
       "</div>"
      ],
      "text/plain": [
       "   OBJECTID  Cod                      Nome  Flg_ATM  Flg_Bicicletario  \\\n",
       "0         1    1                    Pavuna        1               1.0   \n",
       "1         2    2   Engenheiro Rubens Paiva        1               1.0   \n",
       "2         3    3  Acari / Fazenda Botafogo        0               0.0   \n",
       "3         4    4               Coelho Neto        1               0.0   \n",
       "4         5    5                   Colégio        1               1.0   \n",
       "\n",
       "   Flg_Elevador  Flg_Linha1  Flg_Linha2   Obs  Flg_Ativa  ... Integra_Trem  \\\n",
       "0           1.0           0           1  None          1  ...            1   \n",
       "1           1.0           0           1  None          1  ...            0   \n",
       "2           0.0           0           1  None          1  ...            0   \n",
       "3           0.0           0           1  None          1  ...            0   \n",
       "4           0.0           0           1  None          1  ...            0   \n",
       "\n",
       "  Integra_Onibus  Integra_BRT  Corredor  Integra_VLT  Onibus  \\\n",
       "0              0            0      None            0    None   \n",
       "1              0            0      None            0    None   \n",
       "2              0            0      None            0    None   \n",
       "3              0            0      None            0    None   \n",
       "4              0            0      None            0    None   \n",
       "\n",
       "  Flg_Metro_Superficie  Metro_Superficie Data_Inauguracao  \\\n",
       "0                    0              None             1998   \n",
       "1                    0              None             1998   \n",
       "2                    0              None             1998   \n",
       "3                    0              None             1998   \n",
       "4                    0              None             1998   \n",
       "\n",
       "                   geometry  \n",
       "0  POINT (667.827 7476.959)  \n",
       "1  POINT (668.471 7475.883)  \n",
       "2  POINT (669.365 7474.959)  \n",
       "3  POINT (670.012 7474.182)  \n",
       "4  POINT (670.963 7472.930)  \n",
       "\n",
       "[5 rows x 23 columns]"
      ]
     },
     "execution_count": 8,
     "metadata": {},
     "output_type": "execute_result"
    }
   ],
   "source": [
    "metro.head()"
   ]
  },
  {
   "cell_type": "code",
   "execution_count": 44,
   "metadata": {
    "ExecuteTime": {
     "end_time": "2021-02-23T13:07:35.722127Z",
     "start_time": "2021-02-23T13:07:35.715147Z"
    }
   },
   "outputs": [
    {
     "data": {
      "text/plain": [
       "(41, 23)"
      ]
     },
     "execution_count": 44,
     "metadata": {},
     "output_type": "execute_result"
    }
   ],
   "source": [
    "metro.shape"
   ]
  },
  {
   "cell_type": "code",
   "execution_count": 9,
   "metadata": {
    "ExecuteTime": {
     "end_time": "2021-02-22T18:58:58.534111Z",
     "start_time": "2021-02-22T18:58:58.331570Z"
    }
   },
   "outputs": [],
   "source": [
    "g_rj = gpd.read_file('dados/originais/RJ/RJ_Municipios_2019.shp')"
   ]
  },
  {
   "cell_type": "code",
   "execution_count": 10,
   "metadata": {
    "ExecuteTime": {
     "end_time": "2021-02-22T18:59:09.727569Z",
     "start_time": "2021-02-22T18:59:09.503155Z"
    }
   },
   "outputs": [
    {
     "data": {
      "text/html": [
       "<div>\n",
       "<style scoped>\n",
       "    .dataframe tbody tr th:only-of-type {\n",
       "        vertical-align: middle;\n",
       "    }\n",
       "\n",
       "    .dataframe tbody tr th {\n",
       "        vertical-align: top;\n",
       "    }\n",
       "\n",
       "    .dataframe thead th {\n",
       "        text-align: right;\n",
       "    }\n",
       "</style>\n",
       "<table border=\"1\" class=\"dataframe\">\n",
       "  <thead>\n",
       "    <tr style=\"text-align: right;\">\n",
       "      <th></th>\n",
       "      <th>CD_MUN</th>\n",
       "      <th>NM_MUN</th>\n",
       "      <th>SIGLA_UF</th>\n",
       "      <th>AREA_KM2</th>\n",
       "      <th>geometry</th>\n",
       "    </tr>\n",
       "  </thead>\n",
       "  <tbody>\n",
       "    <tr>\n",
       "      <th>0</th>\n",
       "      <td>3300100</td>\n",
       "      <td>Angra dos Reis</td>\n",
       "      <td>RJ</td>\n",
       "      <td>813.210</td>\n",
       "      <td>MULTIPOLYGON (((-44.15109 -23.21602, -44.15076...</td>\n",
       "    </tr>\n",
       "    <tr>\n",
       "      <th>1</th>\n",
       "      <td>3300159</td>\n",
       "      <td>Aperibé</td>\n",
       "      <td>RJ</td>\n",
       "      <td>94.542</td>\n",
       "      <td>POLYGON ((-42.11437 -21.61204, -42.11394 -21.6...</td>\n",
       "    </tr>\n",
       "    <tr>\n",
       "      <th>2</th>\n",
       "      <td>3300209</td>\n",
       "      <td>Araruama</td>\n",
       "      <td>RJ</td>\n",
       "      <td>638.150</td>\n",
       "      <td>POLYGON ((-42.18249 -22.55269, -42.18221 -22.5...</td>\n",
       "    </tr>\n",
       "    <tr>\n",
       "      <th>3</th>\n",
       "      <td>3300225</td>\n",
       "      <td>Areal</td>\n",
       "      <td>RJ</td>\n",
       "      <td>110.724</td>\n",
       "      <td>POLYGON ((-43.17348 -22.25628, -43.17353 -22.2...</td>\n",
       "    </tr>\n",
       "    <tr>\n",
       "      <th>4</th>\n",
       "      <td>3300233</td>\n",
       "      <td>Armação dos Búzios</td>\n",
       "      <td>RJ</td>\n",
       "      <td>70.978</td>\n",
       "      <td>MULTIPOLYGON (((-41.91855 -22.81574, -41.91836...</td>\n",
       "    </tr>\n",
       "  </tbody>\n",
       "</table>\n",
       "</div>"
      ],
      "text/plain": [
       "    CD_MUN              NM_MUN SIGLA_UF  AREA_KM2  \\\n",
       "0  3300100      Angra dos Reis       RJ   813.210   \n",
       "1  3300159             Aperibé       RJ    94.542   \n",
       "2  3300209            Araruama       RJ   638.150   \n",
       "3  3300225               Areal       RJ   110.724   \n",
       "4  3300233  Armação dos Búzios       RJ    70.978   \n",
       "\n",
       "                                            geometry  \n",
       "0  MULTIPOLYGON (((-44.15109 -23.21602, -44.15076...  \n",
       "1  POLYGON ((-42.11437 -21.61204, -42.11394 -21.6...  \n",
       "2  POLYGON ((-42.18249 -22.55269, -42.18221 -22.5...  \n",
       "3  POLYGON ((-43.17348 -22.25628, -43.17353 -22.2...  \n",
       "4  MULTIPOLYGON (((-41.91855 -22.81574, -41.91836...  "
      ]
     },
     "execution_count": 10,
     "metadata": {},
     "output_type": "execute_result"
    }
   ],
   "source": [
    "g_rj.head()"
   ]
  },
  {
   "cell_type": "code",
   "execution_count": 11,
   "metadata": {
    "ExecuteTime": {
     "end_time": "2021-02-22T18:59:55.410594Z",
     "start_time": "2021-02-22T18:59:55.388653Z"
    }
   },
   "outputs": [
    {
     "data": {
      "text/plain": [
       "<Geographic 2D CRS: EPSG:4674>\n",
       "Name: SIRGAS 2000\n",
       "Axis Info [ellipsoidal]:\n",
       "- Lat[north]: Geodetic latitude (degree)\n",
       "- Lon[east]: Geodetic longitude (degree)\n",
       "Area of Use:\n",
       "- name: Latin America - Central America and South America - onshore and offshore. Brazil - onshore and offshore.\n",
       "- bounds: (-122.19, -59.87, -25.28, 32.72)\n",
       "Datum: Sistema de Referencia Geocentrico para las AmericaS 2000\n",
       "- Ellipsoid: GRS 1980\n",
       "- Prime Meridian: Greenwich"
      ]
     },
     "execution_count": 11,
     "metadata": {},
     "output_type": "execute_result"
    }
   ],
   "source": [
    "g_rj.crs"
   ]
  },
  {
   "cell_type": "code",
   "execution_count": 12,
   "metadata": {
    "ExecuteTime": {
     "end_time": "2021-02-22T19:00:14.494582Z",
     "start_time": "2021-02-22T19:00:13.660755Z"
    }
   },
   "outputs": [],
   "source": [
    "g_rj = g_rj.to_crs('+proj=utm +zone=23 +south +ellps=GRS80 +towgs84=0,0,0,0,0,0,0 +units=km +no_defs ')"
   ]
  },
  {
   "cell_type": "code",
   "execution_count": 13,
   "metadata": {
    "ExecuteTime": {
     "end_time": "2021-02-22T19:00:20.004454Z",
     "start_time": "2021-02-22T19:00:19.850861Z"
    }
   },
   "outputs": [
    {
     "data": {
      "text/plain": [
       "<Bound CRS: +proj=utm +zone=23 +south +ellps=GRS80 +towgs84=0, ...>\n",
       "Name: unknown\n",
       "Axis Info [cartesian]:\n",
       "- E[east]: Easting (kilometre)\n",
       "- N[north]: Northing (kilometre)\n",
       "Area of Use:\n",
       "- undefined\n",
       "Coordinate Operation:\n",
       "- name: Transformation from unknown to WGS84\n",
       "- method: Position Vector transformation (geog2D domain)\n",
       "Datum: Unknown based on GRS80 ellipsoid\n",
       "- Ellipsoid: GRS 1980\n",
       "- Prime Meridian: Greenwich\n",
       "Source CRS: unknown"
      ]
     },
     "execution_count": 13,
     "metadata": {},
     "output_type": "execute_result"
    }
   ],
   "source": [
    "g_rj.crs"
   ]
  },
  {
   "cell_type": "code",
   "execution_count": 14,
   "metadata": {
    "ExecuteTime": {
     "end_time": "2021-02-23T11:57:13.411103Z",
     "start_time": "2021-02-23T11:57:13.404148Z"
    }
   },
   "outputs": [],
   "source": [
    "g_rj = g_rj.loc[g_rj['NM_MUN'] == 'Rio de Janeiro']"
   ]
  },
  {
   "cell_type": "code",
   "execution_count": 17,
   "metadata": {
    "ExecuteTime": {
     "end_time": "2021-02-23T11:59:29.084693Z",
     "start_time": "2021-02-23T11:59:28.490802Z"
    }
   },
   "outputs": [],
   "source": [
    "geo_dados = gpd.read_file('dados/processados/mapas/RJ-DATASET/RJ-DATASET.shp')"
   ]
  },
  {
   "cell_type": "code",
   "execution_count": 21,
   "metadata": {
    "ExecuteTime": {
     "end_time": "2021-02-23T12:03:10.486060Z",
     "start_time": "2021-02-23T12:03:09.882540Z"
    }
   },
   "outputs": [
    {
     "data": {
      "text/plain": [
       "<AxesSubplot:>"
      ]
     },
     "execution_count": 21,
     "metadata": {},
     "output_type": "execute_result"
    },
    {
     "data": {
      "image/png": "[encoded data removed]",
      "text/plain": [
       "<Figure size 1080x576 with 1 Axes>"
      ]
     },
     "metadata": {
      "needs_background": "light"
     },
     "output_type": "display_data"
    }
   ],
   "source": [
    "base = g_rj.plot(color='white', edgecolor='black', figsize=(15,8))\n",
    "geo_dados.plot(ax=base, color='orange', alpha=0.7)\n",
    "metro.plot(ax=base, color='black', markersize=100)"
   ]
  },
  {
   "cell_type": "code",
   "execution_count": 23,
   "metadata": {
    "ExecuteTime": {
     "end_time": "2021-02-23T12:03:54.945602Z",
     "start_time": "2021-02-23T12:03:54.937617Z"
    }
   },
   "outputs": [
    {
     "data": {
      "text/plain": [
       "Area                                                 138\n",
       "Bairro                          Recreio dos Bandeirantes\n",
       "Cidade                                    Rio de Janeiro\n",
       "Endereco                             Rua Vicente Scofano\n",
       "Estado                                                RJ\n",
       "Latitude                                      -23.016455\n",
       "Longitude                                     -43.462946\n",
       "Quartos                                                3\n",
       "Suites                                                 1\n",
       "Vagas                                                  3\n",
       "Tipo                                         Apartamento\n",
       "Transacao                                          Venda\n",
       "Valor                                            1095000\n",
       "geometry     POINT (657.5137068691058 7453.832425203198)\n",
       "Name: 0, dtype: object"
      ]
     },
     "execution_count": 23,
     "metadata": {},
     "output_type": "execute_result"
    }
   ],
   "source": [
    "geo_dados.iloc[0]"
   ]
  },
  {
   "cell_type": "code",
   "execution_count": 25,
   "metadata": {
    "ExecuteTime": {
     "end_time": "2021-02-23T12:04:09.536693Z",
     "start_time": "2021-02-23T12:04:09.529683Z"
    }
   },
   "outputs": [
    {
     "data": {
      "image/svg+xml": [
       "<svg xmlns=\"http://www.w3.org/2000/svg\" xmlns:xlink=\"http://www.w3.org/1999/xlink\" width=\"100.0\" height=\"100.0\" viewBox=\"656.5137068691058 7452.832425203198 2.0 2.0\" preserveAspectRatio=\"xMinYMin meet\"><g transform=\"matrix(1,0,0,-1,0,14907.664850406396)\"><circle cx=\"657.5137068691058\" cy=\"7453.832425203198\" r=\"0.06\" stroke=\"#555555\" stroke-width=\"0.02\" fill=\"#66cc99\" opacity=\"0.6\" /></g></svg>"
      ],
      "text/plain": [
       "<shapely.geometry.point.Point at 0x28d330b8e80>"
      ]
     },
     "execution_count": 25,
     "metadata": {},
     "output_type": "execute_result"
    }
   ],
   "source": [
    "geo_dados.iloc[0]['geometry']"
   ]
  },
  {
   "cell_type": "code",
   "execution_count": 26,
   "metadata": {
    "ExecuteTime": {
     "end_time": "2021-02-23T12:06:26.357279Z",
     "start_time": "2021-02-23T12:06:26.346286Z"
    }
   },
   "outputs": [
    {
     "data": {
      "text/plain": [
       "0     25.321516\n",
       "1     24.623350\n",
       "2     24.224237\n",
       "3     23.881158\n",
       "4     23.357575\n",
       "5     23.523396\n",
       "6     23.658163\n",
       "7     23.401048\n",
       "8     23.644084\n",
       "9     24.209373\n",
       "10    24.795188\n",
       "11    25.596665\n",
       "12    26.033173\n",
       "13    26.295764\n",
       "14    27.398579\n",
       "15    28.659654\n",
       "16    25.773027\n",
       "17    26.716983\n",
       "18    27.377518\n",
       "19    30.455326\n",
       "20    31.034097\n",
       "21    31.466395\n",
       "22    31.662650\n",
       "23    31.695780\n",
       "24    31.232661\n",
       "25    31.026518\n",
       "26    30.727260\n",
       "27    30.401336\n",
       "28    29.515734\n",
       "29    29.476829\n",
       "30    28.850631\n",
       "31    29.407590\n",
       "32    27.940690\n",
       "33    28.901631\n",
       "34    27.475584\n",
       "35    24.743520\n",
       "36    26.507063\n",
       "37    25.728350\n",
       "38    24.822792\n",
       "39    21.589055\n",
       "40    15.622939\n",
       "dtype: float64"
      ]
     },
     "execution_count": 26,
     "metadata": {},
     "output_type": "execute_result"
    }
   ],
   "source": [
    "# Calcular as distâncias em linha reta, entre os pontos laranjas e o pontos onde estão localizadas as \n",
    "# estações do metrô e armazenar os pontos com a menor distância\n",
    "\n",
    "distances = metro.distance(geo_dados.iloc[0]['geometry'])\n",
    "distances"
   ]
  },
  {
   "cell_type": "code",
   "execution_count": 27,
   "metadata": {
    "ExecuteTime": {
     "end_time": "2021-02-23T12:07:08.609160Z",
     "start_time": "2021-02-23T12:07:08.602178Z"
    }
   },
   "outputs": [
    {
     "data": {
      "text/plain": [
       "15.62293882499506"
      ]
     },
     "execution_count": 27,
     "metadata": {},
     "output_type": "execute_result"
    }
   ],
   "source": [
    "distances.min()"
   ]
  },
  {
   "cell_type": "code",
   "execution_count": 28,
   "metadata": {
    "ExecuteTime": {
     "end_time": "2021-02-23T12:09:39.138250Z",
     "start_time": "2021-02-23T12:09:31.545916Z"
    }
   },
   "outputs": [],
   "source": [
    "geo_dados['Dist_Metro'] = geo_dados['geometry'].apply(lambda x: metro.distance(x).min())"
   ]
  },
  {
   "cell_type": "code",
   "execution_count": 30,
   "metadata": {
    "ExecuteTime": {
     "end_time": "2021-02-23T12:09:55.522256Z",
     "start_time": "2021-02-23T12:09:55.498388Z"
    }
   },
   "outputs": [
    {
     "data": {
      "text/html": [
       "<div>\n",
       "<style scoped>\n",
       "    .dataframe tbody tr th:only-of-type {\n",
       "        vertical-align: middle;\n",
       "    }\n",
       "\n",
       "    .dataframe tbody tr th {\n",
       "        vertical-align: top;\n",
       "    }\n",
       "\n",
       "    .dataframe thead th {\n",
       "        text-align: right;\n",
       "    }\n",
       "</style>\n",
       "<table border=\"1\" class=\"dataframe\">\n",
       "  <thead>\n",
       "    <tr style=\"text-align: right;\">\n",
       "      <th></th>\n",
       "      <th>Area</th>\n",
       "      <th>Bairro</th>\n",
       "      <th>Cidade</th>\n",
       "      <th>Endereco</th>\n",
       "      <th>Estado</th>\n",
       "      <th>Latitude</th>\n",
       "      <th>Longitude</th>\n",
       "      <th>Quartos</th>\n",
       "      <th>Suites</th>\n",
       "      <th>Vagas</th>\n",
       "      <th>Tipo</th>\n",
       "      <th>Transacao</th>\n",
       "      <th>Valor</th>\n",
       "      <th>geometry</th>\n",
       "      <th>Dist_Metro</th>\n",
       "    </tr>\n",
       "  </thead>\n",
       "  <tbody>\n",
       "    <tr>\n",
       "      <th>0</th>\n",
       "      <td>138</td>\n",
       "      <td>Recreio dos Bandeirantes</td>\n",
       "      <td>Rio de Janeiro</td>\n",
       "      <td>Rua Vicente Scofano</td>\n",
       "      <td>RJ</td>\n",
       "      <td>-23.016455</td>\n",
       "      <td>-43.462946</td>\n",
       "      <td>3</td>\n",
       "      <td>1</td>\n",
       "      <td>3</td>\n",
       "      <td>Apartamento</td>\n",
       "      <td>Venda</td>\n",
       "      <td>1095000</td>\n",
       "      <td>POINT (657.514 7453.832)</td>\n",
       "      <td>15.622939</td>\n",
       "    </tr>\n",
       "    <tr>\n",
       "      <th>1</th>\n",
       "      <td>133</td>\n",
       "      <td>Freguesia (Jacarepaguá)</td>\n",
       "      <td>Rio de Janeiro</td>\n",
       "      <td>Rua Potiguara</td>\n",
       "      <td>RJ</td>\n",
       "      <td>-22.943199</td>\n",
       "      <td>-43.336911</td>\n",
       "      <td>3</td>\n",
       "      <td>1</td>\n",
       "      <td>2</td>\n",
       "      <td>Apartamento</td>\n",
       "      <td>Venda</td>\n",
       "      <td>650000</td>\n",
       "      <td>POINT (670.524 7461.803)</td>\n",
       "      <td>7.530741</td>\n",
       "    </tr>\n",
       "    <tr>\n",
       "      <th>2</th>\n",
       "      <td>46</td>\n",
       "      <td>Pilares</td>\n",
       "      <td>Rio de Janeiro</td>\n",
       "      <td>Rua Professor Carneiro Felipe</td>\n",
       "      <td>RJ</td>\n",
       "      <td>-22.873849</td>\n",
       "      <td>-43.300517</td>\n",
       "      <td>1</td>\n",
       "      <td>0</td>\n",
       "      <td>0</td>\n",
       "      <td>Apartamento</td>\n",
       "      <td>Venda</td>\n",
       "      <td>150000</td>\n",
       "      <td>POINT (674.345 7469.440)</td>\n",
       "      <td>0.736973</td>\n",
       "    </tr>\n",
       "    <tr>\n",
       "      <th>3</th>\n",
       "      <td>65</td>\n",
       "      <td>Barra da Tijuca</td>\n",
       "      <td>Rio de Janeiro</td>\n",
       "      <td>Avenida Salvador Allende</td>\n",
       "      <td>RJ</td>\n",
       "      <td>-22.984787</td>\n",
       "      <td>-43.412703</td>\n",
       "      <td>2</td>\n",
       "      <td>1</td>\n",
       "      <td>1</td>\n",
       "      <td>Apartamento</td>\n",
       "      <td>Venda</td>\n",
       "      <td>430000</td>\n",
       "      <td>POINT (662.701 7457.284)</td>\n",
       "      <td>10.718039</td>\n",
       "    </tr>\n",
       "    <tr>\n",
       "      <th>4</th>\n",
       "      <td>260</td>\n",
       "      <td>Recreio dos Bandeirantes</td>\n",
       "      <td>Rio de Janeiro</td>\n",
       "      <td>Rua Desembargador Paulo Alonso</td>\n",
       "      <td>RJ</td>\n",
       "      <td>-23.018927</td>\n",
       "      <td>-43.477505</td>\n",
       "      <td>3</td>\n",
       "      <td>1</td>\n",
       "      <td>2</td>\n",
       "      <td>Apartamento</td>\n",
       "      <td>Venda</td>\n",
       "      <td>1160000</td>\n",
       "      <td>POINT (656.019 7453.574)</td>\n",
       "      <td>17.131159</td>\n",
       "    </tr>\n",
       "  </tbody>\n",
       "</table>\n",
       "</div>"
      ],
      "text/plain": [
       "   Area                    Bairro          Cidade  \\\n",
       "0   138  Recreio dos Bandeirantes  Rio de Janeiro   \n",
       "1   133   Freguesia (Jacarepaguá)  Rio de Janeiro   \n",
       "2    46                   Pilares  Rio de Janeiro   \n",
       "3    65           Barra da Tijuca  Rio de Janeiro   \n",
       "4   260  Recreio dos Bandeirantes  Rio de Janeiro   \n",
       "\n",
       "                         Endereco Estado   Latitude  Longitude  Quartos  \\\n",
       "0             Rua Vicente Scofano     RJ -23.016455 -43.462946        3   \n",
       "1                   Rua Potiguara     RJ -22.943199 -43.336911        3   \n",
       "2   Rua Professor Carneiro Felipe     RJ -22.873849 -43.300517        1   \n",
       "3        Avenida Salvador Allende     RJ -22.984787 -43.412703        2   \n",
       "4  Rua Desembargador Paulo Alonso     RJ -23.018927 -43.477505        3   \n",
       "\n",
       "   Suites  Vagas         Tipo Transacao    Valor                  geometry  \\\n",
       "0       1      3  Apartamento     Venda  1095000  POINT (657.514 7453.832)   \n",
       "1       1      2  Apartamento     Venda   650000  POINT (670.524 7461.803)   \n",
       "2       0      0  Apartamento     Venda   150000  POINT (674.345 7469.440)   \n",
       "3       1      1  Apartamento     Venda   430000  POINT (662.701 7457.284)   \n",
       "4       1      2  Apartamento     Venda  1160000  POINT (656.019 7453.574)   \n",
       "\n",
       "   Dist_Metro  \n",
       "0   15.622939  \n",
       "1    7.530741  \n",
       "2    0.736973  \n",
       "3   10.718039  \n",
       "4   17.131159  "
      ]
     },
     "execution_count": 30,
     "metadata": {},
     "output_type": "execute_result"
    }
   ],
   "source": [
    "geo_dados.head()"
   ]
  },
  {
   "cell_type": "code",
   "execution_count": 31,
   "metadata": {
    "ExecuteTime": {
     "end_time": "2021-02-23T12:10:19.776383Z",
     "start_time": "2021-02-23T12:10:19.752884Z"
    }
   },
   "outputs": [
    {
     "data": {
      "text/html": [
       "<div>\n",
       "<style scoped>\n",
       "    .dataframe tbody tr th:only-of-type {\n",
       "        vertical-align: middle;\n",
       "    }\n",
       "\n",
       "    .dataframe tbody tr th {\n",
       "        vertical-align: top;\n",
       "    }\n",
       "\n",
       "    .dataframe thead th {\n",
       "        text-align: right;\n",
       "    }\n",
       "</style>\n",
       "<table border=\"1\" class=\"dataframe\">\n",
       "  <thead>\n",
       "    <tr style=\"text-align: right;\">\n",
       "      <th></th>\n",
       "      <th>Area</th>\n",
       "      <th>Latitude</th>\n",
       "      <th>Longitude</th>\n",
       "      <th>Quartos</th>\n",
       "      <th>Suites</th>\n",
       "      <th>Vagas</th>\n",
       "      <th>Valor</th>\n",
       "      <th>Dist_Metro</th>\n",
       "    </tr>\n",
       "  </thead>\n",
       "  <tbody>\n",
       "    <tr>\n",
       "      <th>Area</th>\n",
       "      <td>1.000000</td>\n",
       "      <td>-0.289299</td>\n",
       "      <td>0.029982</td>\n",
       "      <td>0.681112</td>\n",
       "      <td>0.585817</td>\n",
       "      <td>0.594699</td>\n",
       "      <td>0.724397</td>\n",
       "      <td>-0.036671</td>\n",
       "    </tr>\n",
       "    <tr>\n",
       "      <th>Latitude</th>\n",
       "      <td>-0.289299</td>\n",
       "      <td>1.000000</td>\n",
       "      <td>0.292822</td>\n",
       "      <td>-0.225226</td>\n",
       "      <td>-0.346480</td>\n",
       "      <td>-0.274707</td>\n",
       "      <td>-0.299038</td>\n",
       "      <td>-0.217864</td>\n",
       "    </tr>\n",
       "    <tr>\n",
       "      <th>Longitude</th>\n",
       "      <td>0.029982</td>\n",
       "      <td>0.292822</td>\n",
       "      <td>1.000000</td>\n",
       "      <td>-0.016882</td>\n",
       "      <td>-0.221548</td>\n",
       "      <td>-0.283960</td>\n",
       "      <td>0.191868</td>\n",
       "      <td>-0.874788</td>\n",
       "    </tr>\n",
       "    <tr>\n",
       "      <th>Quartos</th>\n",
       "      <td>0.681112</td>\n",
       "      <td>-0.225226</td>\n",
       "      <td>-0.016882</td>\n",
       "      <td>1.000000</td>\n",
       "      <td>0.529611</td>\n",
       "      <td>0.520499</td>\n",
       "      <td>0.481216</td>\n",
       "      <td>0.021794</td>\n",
       "    </tr>\n",
       "    <tr>\n",
       "      <th>Suites</th>\n",
       "      <td>0.585817</td>\n",
       "      <td>-0.346480</td>\n",
       "      <td>-0.221548</td>\n",
       "      <td>0.529611</td>\n",
       "      <td>1.000000</td>\n",
       "      <td>0.621140</td>\n",
       "      <td>0.464075</td>\n",
       "      <td>0.188521</td>\n",
       "    </tr>\n",
       "    <tr>\n",
       "      <th>Vagas</th>\n",
       "      <td>0.594699</td>\n",
       "      <td>-0.274707</td>\n",
       "      <td>-0.283960</td>\n",
       "      <td>0.520499</td>\n",
       "      <td>0.621140</td>\n",
       "      <td>1.000000</td>\n",
       "      <td>0.456596</td>\n",
       "      <td>0.215787</td>\n",
       "    </tr>\n",
       "    <tr>\n",
       "      <th>Valor</th>\n",
       "      <td>0.724397</td>\n",
       "      <td>-0.299038</td>\n",
       "      <td>0.191868</td>\n",
       "      <td>0.481216</td>\n",
       "      <td>0.464075</td>\n",
       "      <td>0.456596</td>\n",
       "      <td>1.000000</td>\n",
       "      <td>-0.195641</td>\n",
       "    </tr>\n",
       "    <tr>\n",
       "      <th>Dist_Metro</th>\n",
       "      <td>-0.036671</td>\n",
       "      <td>-0.217864</td>\n",
       "      <td>-0.874788</td>\n",
       "      <td>0.021794</td>\n",
       "      <td>0.188521</td>\n",
       "      <td>0.215787</td>\n",
       "      <td>-0.195641</td>\n",
       "      <td>1.000000</td>\n",
       "    </tr>\n",
       "  </tbody>\n",
       "</table>\n",
       "</div>"
      ],
      "text/plain": [
       "                Area  Latitude  Longitude   Quartos    Suites     Vagas  \\\n",
       "Area        1.000000 -0.289299   0.029982  0.681112  0.585817  0.594699   \n",
       "Latitude   -0.289299  1.000000   0.292822 -0.225226 -0.346480 -0.274707   \n",
       "Longitude   0.029982  0.292822   1.000000 -0.016882 -0.221548 -0.283960   \n",
       "Quartos     0.681112 -0.225226  -0.016882  1.000000  0.529611  0.520499   \n",
       "Suites      0.585817 -0.346480  -0.221548  0.529611  1.000000  0.621140   \n",
       "Vagas       0.594699 -0.274707  -0.283960  0.520499  0.621140  1.000000   \n",
       "Valor       0.724397 -0.299038   0.191868  0.481216  0.464075  0.456596   \n",
       "Dist_Metro -0.036671 -0.217864  -0.874788  0.021794  0.188521  0.215787   \n",
       "\n",
       "               Valor  Dist_Metro  \n",
       "Area        0.724397   -0.036671  \n",
       "Latitude   -0.299038   -0.217864  \n",
       "Longitude   0.191868   -0.874788  \n",
       "Quartos     0.481216    0.021794  \n",
       "Suites      0.464075    0.188521  \n",
       "Vagas       0.456596    0.215787  \n",
       "Valor       1.000000   -0.195641  \n",
       "Dist_Metro -0.195641    1.000000  "
      ]
     },
     "execution_count": 31,
     "metadata": {},
     "output_type": "execute_result"
    }
   ],
   "source": [
    "geo_dados.corr()"
   ]
  },
  {
   "cell_type": "code",
   "execution_count": 33,
   "metadata": {
    "ExecuteTime": {
     "end_time": "2021-02-23T12:12:25.477554Z",
     "start_time": "2021-02-23T12:12:25.465585Z"
    }
   },
   "outputs": [],
   "source": [
    "# Guardando a correlação entre a distância até uma estação do metrô e o valor do imóvel\n",
    "coef_vd = geo_dados['Valor'].corr(geo_dados['Dist_Metro'])"
   ]
  },
  {
   "cell_type": "code",
   "execution_count": 34,
   "metadata": {
    "ExecuteTime": {
     "end_time": "2021-02-23T12:12:30.014720Z",
     "start_time": "2021-02-23T12:12:30.008765Z"
    }
   },
   "outputs": [
    {
     "data": {
      "text/plain": [
       "-0.1956408316168689"
      ]
     },
     "execution_count": 34,
     "metadata": {},
     "output_type": "execute_result"
    }
   ],
   "source": [
    "# Correlação negativa - significa que quanto maior a distância de uma estação do metrô, menor o valor do imóvel\n",
    "coef_vd"
   ]
  },
  {
   "cell_type": "code",
   "execution_count": 36,
   "metadata": {
    "ExecuteTime": {
     "end_time": "2021-02-23T12:17:40.801712Z",
     "start_time": "2021-02-23T12:17:39.720766Z"
    }
   },
   "outputs": [],
   "source": [
    "diretorio = cria_dir('RJ-DATASET')\n",
    "geo_dados.to_file(diretorio)"
   ]
  },
  {
   "cell_type": "markdown",
   "metadata": {},
   "source": [
    "###  Atividade do curso\n",
    "\n",
    "\n",
    "\n",
    "Utilizando o conjunto com os dados de localização das estações de metrô obtidas no portal DataRio (utilizadas no último vídeo), identifique as quatro estações de metrô mais próximas e as quatro estações de metrô mais distantes dos quatro pontos abaixo:\n",
    "\n",
    "| Latitude\t| Longitude |\n",
    "| --------- |---------- |\n",
    "| -22.9531\t| -43.1884  |\n",
    "| -23.0278\t| -43.4665  |\n",
    "| -22.8463\t| -43.3007  |\n",
    "| -22.8969\t| -43.3165  |\n",
    "\n",
    "\n",
    "\n",
    "Informe também as distâncias em quilômetros do ponto até as estações mais próximas e mais distantes."
   ]
  },
  {
   "cell_type": "code",
   "execution_count": 37,
   "metadata": {
    "ExecuteTime": {
     "end_time": "2021-02-23T12:30:49.852987Z",
     "start_time": "2021-02-23T12:30:49.849998Z"
    }
   },
   "outputs": [],
   "source": [
    "from shapely.geometry import Point"
   ]
  },
  {
   "cell_type": "code",
   "execution_count": 84,
   "metadata": {
    "ExecuteTime": {
     "end_time": "2021-02-23T13:54:29.826242Z",
     "start_time": "2021-02-23T13:54:29.790332Z"
    }
   },
   "outputs": [
    {
     "name": "stderr",
     "output_type": "stream",
     "text": [
      "C:\\Users\\halissonsg\\Anaconda3\\envs\\panel\\lib\\site-packages\\pyproj\\crs\\crs.py:53: FutureWarning: '+init=<authority>:<code>' syntax is deprecated. '<authority>:<code>' is the preferred initialization method. When making the change, be mindful of axis order changes: https://pyproj4.github.io/pyproj/stable/gotchas.html#axis-order-changes-in-proj-6\n",
      "  return _prepare_from_string(\" \".join(pjargs))\n"
     ]
    }
   ],
   "source": [
    "d = {'Latitude': [-22.9531, -23.0278, -22.8463, -22.8969], 'Longitude': [-43.1884, -43.4665, -43.3007, -43.3165]}\n",
    "d_geometry = [Point(x) for x in zip(d['Longitude'], d['Latitude'])]\n",
    "d_crs = {'init': 'epsg:4326'}\n",
    "df_atividade = gpd.GeoDataFrame(d, crs=d_crs, geometry=d_geometry)"
   ]
  },
  {
   "cell_type": "code",
   "execution_count": 85,
   "metadata": {
    "ExecuteTime": {
     "end_time": "2021-02-23T13:54:32.918136Z",
     "start_time": "2021-02-23T13:54:32.894201Z"
    }
   },
   "outputs": [
    {
     "data": {
      "text/plain": [
       "<Geographic 2D CRS: +init=epsg:4326 +type=crs>\n",
       "Name: WGS 84\n",
       "Axis Info [ellipsoidal]:\n",
       "- lon[east]: Longitude (degree)\n",
       "- lat[north]: Latitude (degree)\n",
       "Area of Use:\n",
       "- name: World.\n",
       "- bounds: (-180.0, -90.0, 180.0, 90.0)\n",
       "Datum: World Geodetic System 1984\n",
       "- Ellipsoid: WGS 84\n",
       "- Prime Meridian: Greenwich"
      ]
     },
     "execution_count": 85,
     "metadata": {},
     "output_type": "execute_result"
    }
   ],
   "source": [
    "df_atividade.crs"
   ]
  },
  {
   "cell_type": "code",
   "execution_count": 86,
   "metadata": {
    "ExecuteTime": {
     "end_time": "2021-02-23T13:54:41.081568Z",
     "start_time": "2021-02-23T13:54:41.030705Z"
    }
   },
   "outputs": [],
   "source": [
    "df_atividade = df_atividade.to_crs('+proj=utm +zone=23 +south +ellps=GRS80 +towgs84=0,0,0,0,0,0,0 +units=km +no_defs')"
   ]
  },
  {
   "cell_type": "code",
   "execution_count": 89,
   "metadata": {
    "ExecuteTime": {
     "end_time": "2021-02-23T13:56:47.008887Z",
     "start_time": "2021-02-23T13:56:46.965922Z"
    }
   },
   "outputs": [],
   "source": [
    "df_atividade['Dist_Min'] = df_atividade['geometry'].apply(lambda x: \"{0:.2f} km\".format(metro.distance(x).min()))\n",
    "df_atividade['Metro_Perto'] = df_atividade['geometry'].apply(lambda x: metro['Nome'].iloc[metro.distance(x).idxmin()])\n",
    "df_atividade['Dist_Max'] = df_atividade['geometry'].apply(lambda x: \"{0:.2f} km\".format(metro.distance(x).max()))\n",
    "df_atividade['Metro_Longe'] = df_atividade['geometry'].apply(lambda x: metro['Nome'].iloc[metro.distance(x).idxmax()])"
   ]
  },
  {
   "cell_type": "code",
   "execution_count": 90,
   "metadata": {
    "ExecuteTime": {
     "end_time": "2021-02-23T13:56:47.628155Z",
     "start_time": "2021-02-23T13:56:47.614193Z"
    }
   },
   "outputs": [
    {
     "data": {
      "text/html": [
       "<div>\n",
       "<style scoped>\n",
       "    .dataframe tbody tr th:only-of-type {\n",
       "        vertical-align: middle;\n",
       "    }\n",
       "\n",
       "    .dataframe tbody tr th {\n",
       "        vertical-align: top;\n",
       "    }\n",
       "\n",
       "    .dataframe thead th {\n",
       "        text-align: right;\n",
       "    }\n",
       "</style>\n",
       "<table border=\"1\" class=\"dataframe\">\n",
       "  <thead>\n",
       "    <tr style=\"text-align: right;\">\n",
       "      <th></th>\n",
       "      <th>Latitude</th>\n",
       "      <th>Longitude</th>\n",
       "      <th>geometry</th>\n",
       "      <th>Dist_Min</th>\n",
       "      <th>Metro_Perto</th>\n",
       "      <th>Dist_Max</th>\n",
       "      <th>Metro_Longe</th>\n",
       "    </tr>\n",
       "  </thead>\n",
       "  <tbody>\n",
       "    <tr>\n",
       "      <th>0</th>\n",
       "      <td>-22.9531</td>\n",
       "      <td>-43.1884</td>\n",
       "      <td>POINT (685.741 7460.527)</td>\n",
       "      <td>0.51 km</td>\n",
       "      <td>Botafogo</td>\n",
       "      <td>24.31 km</td>\n",
       "      <td>Pavuna</td>\n",
       "    </tr>\n",
       "    <tr>\n",
       "      <th>1</th>\n",
       "      <td>-23.0278</td>\n",
       "      <td>-43.4665</td>\n",
       "      <td>POINT (657.136 7452.580)</td>\n",
       "      <td>16.12 km</td>\n",
       "      <td>Jardim Oceânico</td>\n",
       "      <td>32.51 km</td>\n",
       "      <td>Cinelândia</td>\n",
       "    </tr>\n",
       "    <tr>\n",
       "      <th>2</th>\n",
       "      <td>-22.8463</td>\n",
       "      <td>-43.3007</td>\n",
       "      <td>POINT (674.361 7472.491)</td>\n",
       "      <td>1.53 km</td>\n",
       "      <td>Vicente de Carvalho</td>\n",
       "      <td>18.65 km</td>\n",
       "      <td>Ipanema / General Osório</td>\n",
       "    </tr>\n",
       "    <tr>\n",
       "      <th>3</th>\n",
       "      <td>-22.8969</td>\n",
       "      <td>-43.3165</td>\n",
       "      <td>POINT (672.676 7466.906)</td>\n",
       "      <td>3.77 km</td>\n",
       "      <td>Engenho da Rainha</td>\n",
       "      <td>15.80 km</td>\n",
       "      <td>Cardeal Arcoverde</td>\n",
       "    </tr>\n",
       "  </tbody>\n",
       "</table>\n",
       "</div>"
      ],
      "text/plain": [
       "   Latitude  Longitude                  geometry  Dist_Min  \\\n",
       "0  -22.9531   -43.1884  POINT (685.741 7460.527)   0.51 km   \n",
       "1  -23.0278   -43.4665  POINT (657.136 7452.580)  16.12 km   \n",
       "2  -22.8463   -43.3007  POINT (674.361 7472.491)   1.53 km   \n",
       "3  -22.8969   -43.3165  POINT (672.676 7466.906)   3.77 km   \n",
       "\n",
       "           Metro_Perto  Dist_Max               Metro_Longe  \n",
       "0             Botafogo  24.31 km                    Pavuna  \n",
       "1      Jardim Oceânico  32.51 km                Cinelândia  \n",
       "2  Vicente de Carvalho  18.65 km  Ipanema / General Osório  \n",
       "3    Engenho da Rainha  15.80 km         Cardeal Arcoverde  "
      ]
     },
     "execution_count": 90,
     "metadata": {},
     "output_type": "execute_result"
    }
   ],
   "source": [
    "df_atividade"
   ]
  },
  {
   "cell_type": "code",
   "execution_count": null,
   "metadata": {},
   "outputs": [],
   "source": []
  }
 ],
 "metadata": {
  "kernelspec": {
   "display_name": "Python [conda env:panel]",
   "language": "python",
   "name": "conda-env-panel-py"
  },
  "language_info": {
   "codemirror_mode": {
    "name": "ipython",
    "version": 3
   },
   "file_extension": ".py",
   "mimetype": "text/x-python",
   "name": "python",
   "nbconvert_exporter": "python",
   "pygments_lexer": "ipython3",
   "version": "3.9.1"
  }
 },
 "nbformat": 4,
 "nbformat_minor": 4
}
