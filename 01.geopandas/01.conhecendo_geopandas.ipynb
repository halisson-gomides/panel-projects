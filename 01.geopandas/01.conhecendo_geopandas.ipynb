{
 "cells": [
  {
   "cell_type": "markdown",
   "metadata": {},
   "source": [
    "# Conhecendo o Geopandas"
   ]
  },
  {
   "cell_type": "code",
   "execution_count": 2,
   "metadata": {
    "ExecuteTime": {
     "end_time": "2021-03-02T20:27:39.873845Z",
     "start_time": "2021-03-02T20:27:38.384099Z"
    }
   },
   "outputs": [],
   "source": [
    "%matplotlib inline\n",
    "import geopandas as gpd\n",
    "from shapely.geometry import Polygon, Point, LineString, MultiPolygon"
   ]
  },
  {
   "cell_type": "markdown",
   "metadata": {},
   "source": [
    "## Fonte de dados\n",
    "\n",
    "http://www.geoservicos.ibge.gov.br/geoserver/wms?service=WFS&version=1.0.0&request=GetFeature&typeName=CREN:GeologiaPontoSD23&outputFormat=SHAPE-ZIP"
   ]
  },
  {
   "cell_type": "code",
   "execution_count": 6,
   "metadata": {
    "ExecuteTime": {
     "end_time": "2021-03-02T20:34:02.861886Z",
     "start_time": "2021-03-02T20:34:02.544689Z"
    }
   },
   "outputs": [],
   "source": [
    "geoBR = gpd.read_file('dados/originais/br_unidades_da_federacao/BR_UF_2019.shp')"
   ]
  },
  {
   "cell_type": "code",
   "execution_count": 7,
   "metadata": {
    "ExecuteTime": {
     "end_time": "2021-03-02T20:34:04.213587Z",
     "start_time": "2021-03-02T20:34:04.207600Z"
    }
   },
   "outputs": [
    {
     "data": {
      "text/plain": [
       "geopandas.geodataframe.GeoDataFrame"
      ]
     },
     "execution_count": 7,
     "metadata": {},
     "output_type": "execute_result"
    }
   ],
   "source": [
    "type(geoBR)"
   ]
  },
  {
   "cell_type": "code",
   "execution_count": 8,
   "metadata": {
    "ExecuteTime": {
     "end_time": "2021-03-02T20:34:08.472852Z",
     "start_time": "2021-03-02T20:34:04.559928Z"
    }
   },
   "outputs": [
    {
     "data": {
      "text/html": [
       "<div>\n",
       "<style scoped>\n",
       "    .dataframe tbody tr th:only-of-type {\n",
       "        vertical-align: middle;\n",
       "    }\n",
       "\n",
       "    .dataframe tbody tr th {\n",
       "        vertical-align: top;\n",
       "    }\n",
       "\n",
       "    .dataframe thead th {\n",
       "        text-align: right;\n",
       "    }\n",
       "</style>\n",
       "<table border=\"1\" class=\"dataframe\">\n",
       "  <thead>\n",
       "    <tr style=\"text-align: right;\">\n",
       "      <th></th>\n",
       "      <th>CD_UF</th>\n",
       "      <th>NM_UF</th>\n",
       "      <th>SIGLA_UF</th>\n",
       "      <th>NM_REGIAO</th>\n",
       "      <th>geometry</th>\n",
       "    </tr>\n",
       "  </thead>\n",
       "  <tbody>\n",
       "    <tr>\n",
       "      <th>0</th>\n",
       "      <td>11</td>\n",
       "      <td>Rondônia</td>\n",
       "      <td>RO</td>\n",
       "      <td>Norte</td>\n",
       "      <td>POLYGON ((-65.38150 -10.42907, -65.38013 -10.4...</td>\n",
       "    </tr>\n",
       "    <tr>\n",
       "      <th>1</th>\n",
       "      <td>12</td>\n",
       "      <td>Acre</td>\n",
       "      <td>AC</td>\n",
       "      <td>Norte</td>\n",
       "      <td>POLYGON ((-71.07772 -9.82774, -71.07817 -9.828...</td>\n",
       "    </tr>\n",
       "    <tr>\n",
       "      <th>2</th>\n",
       "      <td>13</td>\n",
       "      <td>Amazonas</td>\n",
       "      <td>AM</td>\n",
       "      <td>Norte</td>\n",
       "      <td>POLYGON ((-69.83766 -3.68659, -69.82555 -3.620...</td>\n",
       "    </tr>\n",
       "    <tr>\n",
       "      <th>3</th>\n",
       "      <td>14</td>\n",
       "      <td>Roraima</td>\n",
       "      <td>RR</td>\n",
       "      <td>Norte</td>\n",
       "      <td>POLYGON ((-63.96008 2.47313, -63.96041 2.47416...</td>\n",
       "    </tr>\n",
       "    <tr>\n",
       "      <th>4</th>\n",
       "      <td>15</td>\n",
       "      <td>Pará</td>\n",
       "      <td>PA</td>\n",
       "      <td>Norte</td>\n",
       "      <td>MULTIPOLYGON (((-51.43248 -0.47334, -51.42949 ...</td>\n",
       "    </tr>\n",
       "    <tr>\n",
       "      <th>5</th>\n",
       "      <td>16</td>\n",
       "      <td>Amapá</td>\n",
       "      <td>AP</td>\n",
       "      <td>Norte</td>\n",
       "      <td>MULTIPOLYGON (((-50.45011 2.10924, -50.44715 2...</td>\n",
       "    </tr>\n",
       "    <tr>\n",
       "      <th>6</th>\n",
       "      <td>17</td>\n",
       "      <td>Tocantins</td>\n",
       "      <td>TO</td>\n",
       "      <td>Norte</td>\n",
       "      <td>POLYGON ((-48.23163 -5.94614, -48.23011 -5.938...</td>\n",
       "    </tr>\n",
       "    <tr>\n",
       "      <th>7</th>\n",
       "      <td>21</td>\n",
       "      <td>Maranhão</td>\n",
       "      <td>MA</td>\n",
       "      <td>Nordeste</td>\n",
       "      <td>MULTIPOLYGON (((-44.53830 -2.02124, -44.53742 ...</td>\n",
       "    </tr>\n",
       "    <tr>\n",
       "      <th>8</th>\n",
       "      <td>22</td>\n",
       "      <td>Piauí</td>\n",
       "      <td>PI</td>\n",
       "      <td>Nordeste</td>\n",
       "      <td>POLYGON ((-42.91539 -6.64607, -42.91645 -6.644...</td>\n",
       "    </tr>\n",
       "    <tr>\n",
       "      <th>9</th>\n",
       "      <td>23</td>\n",
       "      <td>Ceará</td>\n",
       "      <td>CE</td>\n",
       "      <td>Nordeste</td>\n",
       "      <td>POLYGON ((-41.18292 -4.01797, -41.18552 -4.017...</td>\n",
       "    </tr>\n",
       "    <tr>\n",
       "      <th>10</th>\n",
       "      <td>24</td>\n",
       "      <td>Rio Grande do Norte</td>\n",
       "      <td>RN</td>\n",
       "      <td>Nordeste</td>\n",
       "      <td>MULTIPOLYGON (((-37.04412 -4.81854, -37.04501 ...</td>\n",
       "    </tr>\n",
       "    <tr>\n",
       "      <th>11</th>\n",
       "      <td>25</td>\n",
       "      <td>Paraíba</td>\n",
       "      <td>PB</td>\n",
       "      <td>Nordeste</td>\n",
       "      <td>MULTIPOLYGON (((-34.79576 -7.35000, -34.79601 ...</td>\n",
       "    </tr>\n",
       "    <tr>\n",
       "      <th>12</th>\n",
       "      <td>26</td>\n",
       "      <td>Pernambuco</td>\n",
       "      <td>PE</td>\n",
       "      <td>Nordeste</td>\n",
       "      <td>MULTIPOLYGON (((-32.39240 -3.82372, -32.39253 ...</td>\n",
       "    </tr>\n",
       "    <tr>\n",
       "      <th>13</th>\n",
       "      <td>27</td>\n",
       "      <td>Alagoas</td>\n",
       "      <td>AL</td>\n",
       "      <td>Nordeste</td>\n",
       "      <td>MULTIPOLYGON (((-35.75791 -9.69285, -35.75801 ...</td>\n",
       "    </tr>\n",
       "    <tr>\n",
       "      <th>14</th>\n",
       "      <td>28</td>\n",
       "      <td>Sergipe</td>\n",
       "      <td>SE</td>\n",
       "      <td>Nordeste</td>\n",
       "      <td>MULTIPOLYGON (((-36.91665 -10.84277, -36.91681...</td>\n",
       "    </tr>\n",
       "    <tr>\n",
       "      <th>15</th>\n",
       "      <td>29</td>\n",
       "      <td>Bahia</td>\n",
       "      <td>BA</td>\n",
       "      <td>Nordeste</td>\n",
       "      <td>MULTIPOLYGON (((-38.69616 -17.97901, -38.69618...</td>\n",
       "    </tr>\n",
       "    <tr>\n",
       "      <th>16</th>\n",
       "      <td>31</td>\n",
       "      <td>Minas Gerais</td>\n",
       "      <td>MG</td>\n",
       "      <td>Sudeste</td>\n",
       "      <td>POLYGON ((-50.74208 -19.21384, -50.74241 -19.2...</td>\n",
       "    </tr>\n",
       "    <tr>\n",
       "      <th>17</th>\n",
       "      <td>32</td>\n",
       "      <td>Espírito Santo</td>\n",
       "      <td>ES</td>\n",
       "      <td>Sudeste</td>\n",
       "      <td>MULTIPOLYGON (((-40.75189 -20.92722, -40.75193...</td>\n",
       "    </tr>\n",
       "    <tr>\n",
       "      <th>18</th>\n",
       "      <td>33</td>\n",
       "      <td>Rio de Janeiro</td>\n",
       "      <td>RJ</td>\n",
       "      <td>Sudeste</td>\n",
       "      <td>MULTIPOLYGON (((-41.82923 -22.78453, -41.82939...</td>\n",
       "    </tr>\n",
       "    <tr>\n",
       "      <th>19</th>\n",
       "      <td>35</td>\n",
       "      <td>São Paulo</td>\n",
       "      <td>SP</td>\n",
       "      <td>Sudeste</td>\n",
       "      <td>MULTIPOLYGON (((-48.03716 -25.35794, -48.03750...</td>\n",
       "    </tr>\n",
       "    <tr>\n",
       "      <th>20</th>\n",
       "      <td>41</td>\n",
       "      <td>Paraná</td>\n",
       "      <td>PR</td>\n",
       "      <td>Sul</td>\n",
       "      <td>MULTIPOLYGON (((-48.40736 -25.84270, -48.40750...</td>\n",
       "    </tr>\n",
       "    <tr>\n",
       "      <th>21</th>\n",
       "      <td>42</td>\n",
       "      <td>Santa Catarina</td>\n",
       "      <td>SC</td>\n",
       "      <td>Sul</td>\n",
       "      <td>MULTIPOLYGON (((-48.60084 -28.35222, -48.60096...</td>\n",
       "    </tr>\n",
       "    <tr>\n",
       "      <th>22</th>\n",
       "      <td>43</td>\n",
       "      <td>Rio Grande do Sul</td>\n",
       "      <td>RS</td>\n",
       "      <td>Sul</td>\n",
       "      <td>MULTIPOLYGON (((-49.70392 -29.34774, -49.70402...</td>\n",
       "    </tr>\n",
       "    <tr>\n",
       "      <th>23</th>\n",
       "      <td>50</td>\n",
       "      <td>Mato Grosso do Sul</td>\n",
       "      <td>MS</td>\n",
       "      <td>Centro-oeste</td>\n",
       "      <td>POLYGON ((-57.83371 -20.93628, -57.83553 -20.9...</td>\n",
       "    </tr>\n",
       "    <tr>\n",
       "      <th>24</th>\n",
       "      <td>51</td>\n",
       "      <td>Mato Grosso</td>\n",
       "      <td>MT</td>\n",
       "      <td>Centro-oeste</td>\n",
       "      <td>POLYGON ((-52.61926 -9.68225, -52.60224 -9.683...</td>\n",
       "    </tr>\n",
       "    <tr>\n",
       "      <th>25</th>\n",
       "      <td>52</td>\n",
       "      <td>Goiás</td>\n",
       "      <td>GO</td>\n",
       "      <td>Centro-oeste</td>\n",
       "      <td>POLYGON ((-52.36102 -16.08160, -52.36040 -16.0...</td>\n",
       "    </tr>\n",
       "    <tr>\n",
       "      <th>26</th>\n",
       "      <td>53</td>\n",
       "      <td>Distrito Federal</td>\n",
       "      <td>DF</td>\n",
       "      <td>Centro-oeste</td>\n",
       "      <td>POLYGON ((-47.81455 -16.04995, -47.81478 -16.0...</td>\n",
       "    </tr>\n",
       "  </tbody>\n",
       "</table>\n",
       "</div>"
      ],
      "text/plain": [
       "   CD_UF                NM_UF SIGLA_UF     NM_REGIAO  \\\n",
       "0     11             Rondônia       RO         Norte   \n",
       "1     12                 Acre       AC         Norte   \n",
       "2     13             Amazonas       AM         Norte   \n",
       "3     14              Roraima       RR         Norte   \n",
       "4     15                 Pará       PA         Norte   \n",
       "5     16                Amapá       AP         Norte   \n",
       "6     17            Tocantins       TO         Norte   \n",
       "7     21             Maranhão       MA      Nordeste   \n",
       "8     22                Piauí       PI      Nordeste   \n",
       "9     23                Ceará       CE      Nordeste   \n",
       "10    24  Rio Grande do Norte       RN      Nordeste   \n",
       "11    25              Paraíba       PB      Nordeste   \n",
       "12    26           Pernambuco       PE      Nordeste   \n",
       "13    27              Alagoas       AL      Nordeste   \n",
       "14    28              Sergipe       SE      Nordeste   \n",
       "15    29                Bahia       BA      Nordeste   \n",
       "16    31         Minas Gerais       MG       Sudeste   \n",
       "17    32       Espírito Santo       ES       Sudeste   \n",
       "18    33       Rio de Janeiro       RJ       Sudeste   \n",
       "19    35            São Paulo       SP       Sudeste   \n",
       "20    41               Paraná       PR           Sul   \n",
       "21    42       Santa Catarina       SC           Sul   \n",
       "22    43    Rio Grande do Sul       RS           Sul   \n",
       "23    50   Mato Grosso do Sul       MS  Centro-oeste   \n",
       "24    51          Mato Grosso       MT  Centro-oeste   \n",
       "25    52                Goiás       GO  Centro-oeste   \n",
       "26    53     Distrito Federal       DF  Centro-oeste   \n",
       "\n",
       "                                             geometry  \n",
       "0   POLYGON ((-65.38150 -10.42907, -65.38013 -10.4...  \n",
       "1   POLYGON ((-71.07772 -9.82774, -71.07817 -9.828...  \n",
       "2   POLYGON ((-69.83766 -3.68659, -69.82555 -3.620...  \n",
       "3   POLYGON ((-63.96008 2.47313, -63.96041 2.47416...  \n",
       "4   MULTIPOLYGON (((-51.43248 -0.47334, -51.42949 ...  \n",
       "5   MULTIPOLYGON (((-50.45011 2.10924, -50.44715 2...  \n",
       "6   POLYGON ((-48.23163 -5.94614, -48.23011 -5.938...  \n",
       "7   MULTIPOLYGON (((-44.53830 -2.02124, -44.53742 ...  \n",
       "8   POLYGON ((-42.91539 -6.64607, -42.91645 -6.644...  \n",
       "9   POLYGON ((-41.18292 -4.01797, -41.18552 -4.017...  \n",
       "10  MULTIPOLYGON (((-37.04412 -4.81854, -37.04501 ...  \n",
       "11  MULTIPOLYGON (((-34.79576 -7.35000, -34.79601 ...  \n",
       "12  MULTIPOLYGON (((-32.39240 -3.82372, -32.39253 ...  \n",
       "13  MULTIPOLYGON (((-35.75791 -9.69285, -35.75801 ...  \n",
       "14  MULTIPOLYGON (((-36.91665 -10.84277, -36.91681...  \n",
       "15  MULTIPOLYGON (((-38.69616 -17.97901, -38.69618...  \n",
       "16  POLYGON ((-50.74208 -19.21384, -50.74241 -19.2...  \n",
       "17  MULTIPOLYGON (((-40.75189 -20.92722, -40.75193...  \n",
       "18  MULTIPOLYGON (((-41.82923 -22.78453, -41.82939...  \n",
       "19  MULTIPOLYGON (((-48.03716 -25.35794, -48.03750...  \n",
       "20  MULTIPOLYGON (((-48.40736 -25.84270, -48.40750...  \n",
       "21  MULTIPOLYGON (((-48.60084 -28.35222, -48.60096...  \n",
       "22  MULTIPOLYGON (((-49.70392 -29.34774, -49.70402...  \n",
       "23  POLYGON ((-57.83371 -20.93628, -57.83553 -20.9...  \n",
       "24  POLYGON ((-52.61926 -9.68225, -52.60224 -9.683...  \n",
       "25  POLYGON ((-52.36102 -16.08160, -52.36040 -16.0...  \n",
       "26  POLYGON ((-47.81455 -16.04995, -47.81478 -16.0...  "
      ]
     },
     "execution_count": 8,
     "metadata": {},
     "output_type": "execute_result"
    }
   ],
   "source": [
    "geoBR"
   ]
  },
  {
   "cell_type": "code",
   "execution_count": 9,
   "metadata": {
    "ExecuteTime": {
     "end_time": "2021-03-02T20:34:09.557567Z",
     "start_time": "2021-03-02T20:34:08.475817Z"
    },
    "scrolled": true
   },
   "outputs": [
    {
     "data": {
      "text/plain": [
       "<AxesSubplot:>"
      ]
     },
     "execution_count": 9,
     "metadata": {},
     "output_type": "execute_result"
    },
    {
     "data": {
      "image/png": "[encoded data removed]",
      "text/plain": [
       "<Figure size 1080x576 with 1 Axes>"
      ]
     },
     "metadata": {
      "needs_background": "light"
     },
     "output_type": "display_data"
    }
   ],
   "source": [
    "geoBR.plot(color='grey', edgecolor='black', figsize=(15,8))"
   ]
  },
  {
   "cell_type": "code",
   "execution_count": 41,
   "metadata": {
    "ExecuteTime": {
     "end_time": "2021-02-12T17:16:17.371564Z",
     "start_time": "2021-02-12T17:16:17.176455Z"
    }
   },
   "outputs": [
    {
     "data": {
      "text/plain": [
       "<AxesSubplot:>"
      ]
     },
     "execution_count": 41,
     "metadata": {},
     "output_type": "execute_result"
    },
    {
     "data": {
      "image/png": "[encoded data removed]",
      "text/plain": [
       "<Figure size 1080x576 with 1 Axes>"
      ]
     },
     "metadata": {
      "needs_background": "light"
     },
     "output_type": "display_data"
    }
   ],
   "source": [
    "p1 = Polygon([(0, 0), (1, 0), (1, 1), (0, 1)])\n",
    "p2 = Polygon([(0, 0), (1, 0), (1, 1)])\n",
    "\n",
    "p3 = Polygon([(2, 0), (3, 0), (3, 1), (2, 1)])\n",
    "\n",
    "p4 = LineString([(0, 1), (3, 0), (1, 1)])\n",
    "p5 = Point(0.5, 0.5)\n",
    "\n",
    "# MutiPolygon\n",
    "p6 = Polygon([(1, 0), (1.5, 0.4), (2, 0)])\n",
    "p7 = Polygon([(1, 1), (1.5, 0.6), (2, 1)])\n",
    "p8 = MultiPolygon([p6, p7])\n",
    "\n",
    "g = gpd.GeoSeries([p1, p2, p3, p4, p5, p8])\n",
    "g.plot(cmap='tab10', figsize=(15,8))"
   ]
  },
  {
   "cell_type": "code",
   "execution_count": 42,
   "metadata": {
    "ExecuteTime": {
     "end_time": "2021-02-12T17:16:22.336743Z",
     "start_time": "2021-02-12T17:16:22.327736Z"
    }
   },
   "outputs": [
    {
     "data": {
      "text/plain": [
       "0    POLYGON ((0.00000 0.00000, 1.00000 0.00000, 1....\n",
       "1    POLYGON ((0.00000 0.00000, 1.00000 0.00000, 1....\n",
       "2    POLYGON ((2.00000 0.00000, 3.00000 0.00000, 3....\n",
       "3    LINESTRING (0.00000 1.00000, 3.00000 0.00000, ...\n",
       "4                              POINT (0.50000 0.50000)\n",
       "5    MULTIPOLYGON (((1.00000 0.00000, 1.50000 0.400...\n",
       "dtype: geometry"
      ]
     },
     "execution_count": 42,
     "metadata": {},
     "output_type": "execute_result"
    }
   ],
   "source": [
    "g"
   ]
  },
  {
   "cell_type": "code",
   "execution_count": 51,
   "metadata": {
    "ExecuteTime": {
     "end_time": "2021-02-12T17:32:47.934995Z",
     "start_time": "2021-02-12T17:32:47.767415Z"
    }
   },
   "outputs": [
    {
     "data": {
      "text/plain": [
       "<AxesSubplot:>"
      ]
     },
     "execution_count": 51,
     "metadata": {},
     "output_type": "execute_result"
    },
    {
     "data": {
      "image/png": "[encoded data removed]",
      "text/plain": [
       "<Figure size 1080x576 with 1 Axes>"
      ]
     },
     "metadata": {
      "needs_background": "light"
     },
     "output_type": "display_data"
    }
   ],
   "source": [
    "p1 = Point(0.5, 0.5).buffer(0.5)\n",
    "p2 = MultiPolygon([Point(0.25, 0.6).buffer(0.1), \n",
    "                    Point(0.75, 0.6).buffer(0.1)])\n",
    "p3 = MultiPolygon([Point(0.25, 0.6).buffer(0.02),\n",
    "                    Point(0.75, 0.6).buffer(0.02)])\n",
    "p4 = LineString([(0.2, 0.28), (0.4, 0.24), (0.6, 0.24), (0.8, 0.28)])\n",
    "\n",
    "g = gpd.GeoSeries([p1, p2, p3, p4])\n",
    "g.plot(cmap='Wistia', figsize=(15,8))"
   ]
  },
  {
   "cell_type": "code",
   "execution_count": null,
   "metadata": {},
   "outputs": [],
   "source": []
  }
 ],
 "metadata": {
  "kernelspec": {
   "display_name": "Python [conda env:panel]",
   "language": "python",
   "name": "conda-env-panel-py"
  },
  "language_info": {
   "codemirror_mode": {
    "name": "ipython",
    "version": 3
   },
   "file_extension": ".py",
   "mimetype": "text/x-python",
   "name": "python",
   "nbconvert_exporter": "python",
   "pygments_lexer": "ipython3",
   "version": "3.9.1"
  }
 },
 "nbformat": 4,
 "nbformat_minor": 4
}
